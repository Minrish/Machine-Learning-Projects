{
 "cells": [
  {
   "cell_type": "code",
   "execution_count": 1,
   "metadata": {},
   "outputs": [
    {
     "name": "stdout",
     "output_type": "stream",
     "text": [
      "________________________________________________________________________________\n",
      "[Memory] Calling __main__-C%3A-Users-ybxYB-AppData-Local-Temp-ipykernel-23723983.get_data...\n",
      "get_data()\n",
      "_________________________________________________________get_data - 0.1s, 0.0min\n"
     ]
    }
   ],
   "source": [
    "# Model No. 3 SVM Model for a9a\n",
    "from sklearn import svm\n",
    "from joblib import Memory\n",
    "from sklearn.datasets import load_svmlight_file\n",
    "mem = Memory(\"./mycache\")\n",
    "\n",
    "@mem.cache\n",
    "def get_data():\n",
    "    data = load_svmlight_file('a9a.txt')\n",
    "    return data[0], data[1]\n",
    "\n",
    "X, y = get_data()"
   ]
  },
  {
   "cell_type": "code",
   "execution_count": 2,
   "metadata": {},
   "outputs": [
    {
     "name": "stdout",
     "output_type": "stream",
     "text": [
      "________________________________________________________________________________\n",
      "[Memory] Calling __main__-C%3A-Users-ybxYB-AppData-Local-Temp-ipykernel-1207657492.get_data...\n",
      "get_data()\n",
      "_________________________________________________________get_data - 0.1s, 0.0min\n",
      "[0.8458231  0.8540131  0.85135135 0.84766585 0.84009009]\n",
      "Accuracy: 84.77886977886978\n",
      "{'C': 1.0, 'break_ties': False, 'cache_size': 200, 'class_weight': None, 'coef0': 0.0, 'decision_function_shape': 'ovr', 'degree': 3, 'gamma': 'scale', 'kernel': 'rbf', 'max_iter': -1, 'probability': False, 'random_state': None, 'shrinking': True, 'tol': 0.001, 'verbose': False}\n"
     ]
    }
   ],
   "source": [
    "from sklearn.svm import SVC\n",
    "from joblib import Memory\n",
    "from sklearn.datasets import load_svmlight_file\n",
    "from sklearn import model_selection\n",
    "from sklearn.model_selection import train_test_split,KFold\n",
    "import numpy as np\n",
    "import matplotlib.pyplot as plt\n",
    "mem = Memory(\"./mycache\")\n",
    "\n",
    "@mem.cache\n",
    "def get_data():\n",
    "    data = load_svmlight_file('a9a.txt')\n",
    "    return data[0], data[1]\n",
    "\n",
    "X, y = get_data()\n",
    "\n",
    "X_train, X_test, y_train, y_test = train_test_split(X,y)\n",
    "svclassifier = SVC(kernel='rbf')\n",
    "svclassifier.fit(X_train, y_train)\n",
    "kfold = model_selection.KFold(n_splits=5)\n",
    "model = svclassifier\n",
    "results = model_selection.cross_val_score(model, X_train, y_train, cv=kfold)\n",
    "print(results)\n",
    "print(\"Accuracy:\", results.mean()*100)\n",
    "print(model.get_params())"
   ]
  },
  {
   "cell_type": "code",
   "execution_count": 3,
   "metadata": {},
   "outputs": [
    {
     "name": "stdout",
     "output_type": "stream",
     "text": [
      "[0.84336609 0.8482801  0.8519656  0.8482801  0.84234234]\n",
      "Accuracy: 84.68468468468468\n"
     ]
    }
   ],
   "source": [
    "svclassifier = SVC(kernel='linear')\n",
    "svclassifier.fit(X_train, y_train)\n",
    "kfold = model_selection.KFold(n_splits=5)\n",
    "model = svclassifier\n",
    "results = model_selection.cross_val_score(model, X_train, y_train, cv=kfold)\n",
    "print(results)\n",
    "print(\"Accuracy:\", results.mean()*100)"
   ]
  },
  {
   "cell_type": "code",
   "execution_count": 4,
   "metadata": {},
   "outputs": [
    {
     "name": "stdout",
     "output_type": "stream",
     "text": [
      "[0.8450041  0.85462735 0.85217035 0.8458231  0.83701884]\n",
      "Accuracy: 84.69287469287468\n"
     ]
    }
   ],
   "source": [
    "svclassifier = SVC(kernel='poly')\n",
    "svclassifier.fit(X_train, y_train)\n",
    "kfold = model_selection.KFold(n_splits=5)\n",
    "model = svclassifier\n",
    "results = model_selection.cross_val_score(model, X_train, y_train, cv=kfold)\n",
    "print(results)\n",
    "print(\"Accuracy:\", results.mean()*100)"
   ]
  },
  {
   "cell_type": "code",
   "execution_count": 5,
   "metadata": {},
   "outputs": [
    {
     "name": "stdout",
     "output_type": "stream",
     "text": [
      "0.8464562093108955\n",
      "Accuracy: 84.64562093108955\n"
     ]
    }
   ],
   "source": [
    "svclassifier = SVC(kernel='linear')\n",
    "svclassifier.fit(X_train, y_train)\n",
    "results = svclassifier.score(X_test, y_test)\n",
    "print(results)\n",
    "print(\"Accuracy:\", results.mean()*100)"
   ]
  },
  {
   "cell_type": "code",
   "execution_count": 6,
   "metadata": {},
   "outputs": [
    {
     "name": "stdout",
     "output_type": "stream",
     "text": [
      "________________________________________________________________________________\n",
      "[Memory] Calling __main__-C%3A-Users-ybxYB-AppData-Local-Temp-ipykernel-667350064.get_test...\n",
      "get_test()\n",
      "_________________________________________________________get_test - 0.0s, 0.0min\n",
      "Accuracy: 84.98%\n"
     ]
    }
   ],
   "source": [
    "@mem.cache\n",
    "def get_test():\n",
    "    data = load_svmlight_file('a9a.t')\n",
    "    return data[0], data[1]\n",
    "\n",
    "X_test, y_test = get_test()\n",
    "\n",
    "svclassifier = SVC(kernel='linear')\n",
    "svclassifier.fit(X, y)\n",
    "results = svclassifier.score(X_test, y_test)\n",
    "print(\"Accuracy: %.2f%%\" % (results * 100.0))"
   ]
  }
 ],
 "metadata": {
  "kernelspec": {
   "display_name": "Python 3.10.8 64-bit (microsoft store)",
   "language": "python",
   "name": "python3"
  },
  "language_info": {
   "codemirror_mode": {
    "name": "ipython",
    "version": 3
   },
   "file_extension": ".py",
   "mimetype": "text/x-python",
   "name": "python",
   "nbconvert_exporter": "python",
   "pygments_lexer": "ipython3",
   "version": "3.10.8"
  },
  "orig_nbformat": 4,
  "vscode": {
   "interpreter": {
    "hash": "9dd8ebb00fe7c85347c6025f51a8b0e304af83251ab0a55111d55a85f59e487b"
   }
  }
 },
 "nbformat": 4,
 "nbformat_minor": 2
}
